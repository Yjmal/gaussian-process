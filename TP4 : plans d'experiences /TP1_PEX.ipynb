{
 "cells": [
  {
   "cell_type": "markdown",
   "metadata": {},
   "source": [
    "#  <center> **<span style='color:red'>Module Computer Experiments, INSA de Toulouse** </span> </center>\n",
    "\n",
    "# TP1 sur <span style='color:blue'>la planification d’expériences numériques</span>\n",
    "\n",
    "\n",
    "\n",
    "## EXERCICE 1) Plan Maximin\n",
    "\n",
    "**Question 1.a)** Créez un plan d’expériences Maximin de $9$ points pour $2$ variables uniformes $\\mathcal{U}[0,1]$ (matrice de $9$ lignes à $2$ colonnes).<br/>\n",
    "Pour cela, une méthode simple consiste à générer un grand nombre de plans aléatoires et de prendre le meilleur au sens de la maximisation de la distance minimale entre $2$ points du plan (critère dit *maximin*). La fonction `mindist` codant cette distance se trouve dans le package  `DiceDesign `.<br/>\n",
    "Visualisez ce plan par rapport à un plan aléatoire pur (Monte-Carlo)."
   ]
  },
  {
   "cell_type": "code",
   "execution_count": null,
   "metadata": {},
   "outputs": [],
   "source": [
    "rm(list=ls())\n",
    "graphics.off()\n",
    "\n",
    "library(randtoolbox)\n",
    "\n",
    "library(DiceDesign)\n",
    "help(package=\"DiceDesign\")\n",
    "?mindist"
   ]
  },
  {
   "cell_type": "code",
   "execution_count": null,
   "metadata": {},
   "outputs": [],
   "source": [
    "# Génération d'un grand nombre de plans aléatoires purs Monte Carlo \n",
    "?runif\n",
    "#?mindist\n",
    "\n",
    "critere=0 #initialisation d'un critère\n",
    "# A compléter....\n",
    "#....\n",
    "#....\n",
    "\n",
    "# Affichage du meilleur plan parmi l'ensemble des plans générés\n",
    "par(mfrow=c(2,2))\n",
    "plot(x,main=\"Plan pur Monte Carlo\")\n",
    "plot(x1,main=\"Plan Maximin\")\n",
    "cat(\"Distance minimale entre 2 points pour le plan pur Monte Carlo = \",mindist(x),\"\\n\")\n",
    "cat(\"Distance minimale entre 2 points pour le plan Maximin = \",mindist(x1),\"\\n\")"
   ]
  },
  {
   "cell_type": "markdown",
   "metadata": {},
   "source": [
    "**Question 1.b)** Construisez un plan factoriel complet pour $2$ variables à $3$ niveaux. On obtient un total de $3^2 = 9$ points. Utilisez la fonction `factDesign()` du package `DiceDesign`. Visualisez ce plan par rapport aux précédents et comparez les valeurs prises par le critère *maximin*."
   ]
  },
  {
   "cell_type": "code",
   "execution_count": null,
   "metadata": {},
   "outputs": [],
   "source": [
    "?factDesign"
   ]
  },
  {
   "cell_type": "code",
   "execution_count": null,
   "metadata": {},
   "outputs": [],
   "source": [
    "# Création du plan factoriel complet\n",
    "x2 = ???  #à compléter...\n",
    "x2 \n",
    "\n",
    "# Comparaison graphique avec les plans précédents\n",
    "par(mfrow=c(2,2)) \n",
    "plot(x,main=\"Plan pur Monte Carlo\")\n",
    "plot(x1,main=\"Plan Maximin\")\n",
    "plot(x2$design,main=\"Plan Factoriel\")"
   ]
  },
  {
   "cell_type": "code",
   "execution_count": null,
   "metadata": {},
   "outputs": [],
   "source": [
    "# Comparaison de la distance minimale entre 2 points\n",
    "cat(\"Distance minimale entre 2 points pour le plan pur Monte Carlo = \",mindist(x),\"\\n\")\n",
    "cat(\"Distance minimale entre 2 points pour le plan Maximin = \",mindist(x1),\"\\n\")\n",
    "cat(\"Distance minimale entre 2 points pour le plan Factoriel = \",mindist(x2$design),\"\\n\")"
   ]
  },
  {
   "cell_type": "markdown",
   "metadata": {},
   "source": [
    "**Question 1.c)** Même si le plan factoriel est meilleur au sens de la distance maximin, quels sont les problèmes que l’on entrevoit pour l’exploration d’un modèle numérique avec des plans factoriels complets ?"
   ]
  },
  {
   "cell_type": "markdown",
   "metadata": {},
   "source": [
    "..."
   ]
  },
  {
   "cell_type": "markdown",
   "metadata": {},
   "source": [
    "## EXERCICE 2) Plan à discrépance faible\n",
    "\n",
    "**Question 2.a)** Construisez une suite de Sobol de $9$ points pour $2$ variables $\\mathcal{U}[0,1]$ en utilisant la fonction `sobol` du package  `randtoolbox`. Visualisez ce plan et comparez la valeur prise par le critère *maximin* à celle obtenue pour le plan Maximin."
   ]
  },
  {
   "cell_type": "code",
   "execution_count": null,
   "metadata": {},
   "outputs": [],
   "source": [
    "library(randtoolbox)\n",
    " ?sobol"
   ]
  },
  {
   "cell_type": "code",
   "execution_count": null,
   "metadata": {},
   "outputs": [],
   "source": [
    "x3 = ??? #à compléter # Création d'une suite de Sobol de 9 points en dimension 2 (9 premiers points de la suite)\n",
    "plot(x3,main=\"Sobol\")\n",
    "cat(\"Distance minimale entre 2 points pour la suite de Sobol = \",mindist(x3),\"\\n\")"
   ]
  },
  {
   "cell_type": "markdown",
   "metadata": {},
   "source": [
    "**Question 2.b)** Calculez les critères de discrépance modifiée et centrée de ce plan et des trois plans précédents (Maximin, Monte-Carlo pur, factoriel complet) et comparez-les. On utilisera la fonction `discrepancyCriteria` du package `DiceDesign`."
   ]
  },
  {
   "cell_type": "code",
   "execution_count": null,
   "metadata": {},
   "outputs": [],
   "source": [
    "?discrepancyCriteria"
   ]
  },
  {
   "cell_type": "code",
   "execution_count": null,
   "metadata": {},
   "outputs": [],
   "source": [
    "# Calcul des critères de discrépance pour les différents plans (à compléter)\n",
    "dis_MC = discrepancyCriteria(  ,type=c('M2','C2')) #à compléter\n",
    "dis_Maximin = discrepancyCriteria(  ,type=c('M2','C2')) #à compléter\n",
    "dis_Fact = discrepancyCriteria(  ,type=c('M2','C2')) #à compléter\n",
    "dis_Sobol = discrepancyCriteria(  ,type=c('M2','C2')) #à compléter\n",
    "# Affichage des valeurs\n",
    "cat(\"Critères discrépance M2 et C2 pour le plan pur Monte Carlo = \", dis_MC$DisM2, \" - \", dis_MC$DisC2,\"\\n\")\n",
    "cat(\"Critères discrépance M2 et C2 pour le plan Maximin = \", dis_Maximin$DisM2, \" - \", dis_Maximin$DisC2,\"\\n\")\n",
    "cat(\"Critères discrépance M2 et C2 pour le plan Factoriel = \", dis_Fact $DisM2, \" - \", dis_Fact $DisC2,\"\\n\")\n",
    "cat(\"Critères discrépance M2 et C2 pour la suite de Sobol = \", dis_Sobol$DisM2, \" - \", dis_Sobol$DisC2,\"\\n\")"
   ]
  },
  {
   "cell_type": "markdown",
   "metadata": {},
   "source": [
    "**Question 2.c)** Construisez une suite de Halton de $200$ points pour $8$ variables $\\mathcal{U}[0,1]$ avec la fonction `halton`du package `randtoolbox`.  Le plan obtenu est une matrice de $200$ lignes et $8$ colonnes. Visualisez les *scatterplots* de ce plan pour chaque couple de variables avec la fonction `pairs()`."
   ]
  },
  {
   "cell_type": "code",
   "execution_count": null,
   "metadata": {},
   "outputs": [],
   "source": [
    "?halton\n",
    "x4 = ??? #à compléter\n",
    "pairs(x4,pch =\".\",cex=3)"
   ]
  },
  {
   "cell_type": "markdown",
   "metadata": {},
   "source": [
    "Quels types d’anomalies détectez-vous ? Quel problème cela pose-t-il en termes d’exploration de l’espace ?"
   ]
  },
  {
   "cell_type": "markdown",
   "metadata": {},
   "source": [
    "..."
   ]
  },
  {
   "cell_type": "markdown",
   "metadata": {},
   "source": [
    "**Question 2.d)** Répétez **2.c)** avec une suite de Sobol."
   ]
  },
  {
   "cell_type": "code",
   "execution_count": null,
   "metadata": {},
   "outputs": [],
   "source": [
    "x5=???  #à compléter\n",
    "pairs(x5,pch =\".\",cex=3)"
   ]
  },
  {
   "cell_type": "markdown",
   "metadata": {},
   "source": [
    "**Question 2.e)** Un des problèmes des suites à discrépance faible est la création d'alignements de points dans les plans de sous-projection des variables d'entrée. Pour détecter ce phénomène, un outil de visualisation des défauts d’uniformité selon\n",
    "les projection 1D à 3D a été proposé : le radar d’uniformité.<br/>\n",
    "En dimension $2$, cet outil effectue un balayage angulaire de chaque sous-espace 2D et, en scannant toutes les directions, il réalise un test statistique d'uniformité des points projetés sur l'axe correspondant au balayage ($H_0$ : répartition uniforme).\n",
    "Cette technique est disponible via la fonction `rss2d()` du package ` DiceDesign `. Appliquez dans le cas de la suite de Sobol."
   ]
  },
  {
   "cell_type": "code",
   "execution_count": null,
   "metadata": {},
   "outputs": [],
   "source": [
    "?rss2d()\n",
    "rss2d(  )#à compléter"
   ]
  },
  {
   "cell_type": "markdown",
   "metadata": {},
   "source": [
    "# EXERCICE 3) Plan Hypercube Latin (LHS)\n",
    "\n",
    "**Question 3.a)** À l’aide du support de cours, construisez une fonction permettant de générer des LHS avec des lois marginales uniformes.\n",
    "\n",
    "Rappelons que si $J$ et $U$ sont deux variables aléatoires indépendantes telles ques :\n",
    "\n",
    "- $J$ est une variable aléatoire discrète de loi uniforme sur $\\{1,\\ldots,n\\}$,\n",
    "- $U$ est une variable aléatoire continue de loi uniforme sur $[0,1]$,\n",
    "\n",
    "alors : $\\displaystyle V = \\frac{J-U}{n} \\sim \\mathcal{U}(0,1)$."
   ]
  },
  {
   "cell_type": "code",
   "execution_count": null,
   "metadata": {},
   "outputs": [],
   "source": [
    "# function permettant de construire un plan LHS de N points sur l'hypercube [0,1]^d (d: dimension des entrées)\n",
    "?sample\n",
    "lhs <- function(N,p){\n",
    "  ran = ???                     # tirage de N x p valeurs selon loi U[0,1]\n",
    "  x = matrix(NA,nrow=N,ncol=p)  # initialisaton de la matrice du plan d'experiences\n",
    "    \n",
    "  # Pour chaque dimension \n",
    "    for (i in 1:p){\n",
    "      idx = ???    # tirage d'une permutation aléatoire des entiers {1,2,…,N}\n",
    "      x[,i] = ???  # rajout d'une perturbation aléatoire (ran[,i]) dans la \"case\" et recalage entre [0,1] (division par N)\n",
    "    }  \n",
    "    return(x)\n",
    "}"
   ]
  },
  {
   "cell_type": "markdown",
   "metadata": {},
   "source": [
    "**Question 3.b)** Construisez un LHS de $20$ points et $2$ variables $\\mathcal{U}(0,1)$."
   ]
  },
  {
   "cell_type": "code",
   "execution_count": null,
   "metadata": {},
   "outputs": [],
   "source": [
    "?lhs\n",
    "x1 = ??? #à compléter\n",
    "x1\n",
    "plot(x1, main=\"LHS\")"
   ]
  },
  {
   "cell_type": "markdown",
   "metadata": {},
   "source": [
    "**Question 3.c)** Construisez avec deux méthodes différentes un LHS Maximin (c'est-à-dire un LHS optimisé avec le critère *mindist*).\n",
    "\n",
    "   - **Méthode 1 :** Générez un grand nombre de LHS et gardez celui qui conduit à la plus grande valeur de *mindist*."
   ]
  },
  {
   "cell_type": "code",
   "execution_count": null,
   "metadata": {},
   "outputs": [],
   "source": [
    "n = 20 # nbre de points du design\n",
    "d = 2  # Dimension des entrees\n",
    "n_loop = 10000 # Nbre de LHS tirés aléatoirement\n",
    "\n",
    "x2 = ??? #à compléter # Création d'un 1er LHS \n",
    "critere= ??? #à compléter # Initialisation du critère mindist à maximiser\n",
    "\n",
    "#boucle à compléter\n",
    "for (i in 1:n_loop)\n",
    "{\n",
    "  xnew = ??? # Génération d'un nouveau LHS candidat\n",
    "  if ( ???) # Test si amélioration du critère : si oui, mise à jour\n",
    "  { \n",
    "    x2 = xnew\n",
    "    critere = mindist(xnew)\n",
    "  }\n",
    "}"
   ]
  },
  {
   "cell_type": "code",
   "execution_count": null,
   "metadata": {},
   "outputs": [],
   "source": [
    "plot(x2, main=\"LHS Maximin - Methode 1\")"
   ]
  },
  {
   "cell_type": "markdown",
   "metadata": {},
   "source": [
    " - **Méthode 2 :** Utilisez directement la fonction `maximinSA_LHS()` du package `DiceDesign`. Pour optimiser le critère *mindist*, cette fonction utilise l'algorithm de recuit simulé. L’utilisation de cet algorithme nécessite le réglage délicat de plusieurs paramètres d'optimisation (valeurs par défaut implémentées dans la fonction)."
   ]
  },
  {
   "cell_type": "code",
   "execution_count": null,
   "metadata": {},
   "outputs": [],
   "source": [
    "?maximinSA_LHS\n",
    "xinit = ??? #à compléter # plan lhs pris comme base \n",
    "x3 = ???  #à compléter  # affichage ddu design avec la fonction maximinSA_LHS()"
   ]
  },
  {
   "cell_type": "markdown",
   "metadata": {},
   "source": [
    "Comparer-les avec un LHS standard et un plan aléatoire pur en termes de visualisation graphique et de critère *mindist*."
   ]
  },
  {
   "cell_type": "code",
   "execution_count": null,
   "metadata": {},
   "outputs": [],
   "source": [
    "x0 = matrix(runif(n*d),nrow=n,ncol=d) # plan pur Monte Carlo\n",
    "\n",
    "par(mfcol=c(2,2))\n",
    "plot(x0,main=\"Random Monte Carlo\")\n",
    "plot(x1,main=\"Random LHS\")\n",
    "plot(xnew,main=\"Maximin LHS maximin (méthode 1) \")\n",
    "plot(x3, main=\"LHS Maximin - Methode 2 (Recuit simulé)\")"
   ]
  },
  {
   "cell_type": "code",
   "execution_count": null,
   "metadata": {},
   "outputs": [],
   "source": [
    "cat(\"critere mindist pour un plan pur Monte Carlo) :\", mindist(x0), '\\n')\n",
    "cat(\"critere mindist pour un LHS aleatoire :\", mindist(x1), '\\n')\n",
    "cat(\"critere mindist pour un LHS maximin (méthode 1) :\", mindist(xnew), '\\n')\n",
    "cat(\"critere mindist pour un LHS maximin (optimisation par recuit simulé) :\", mindist(x3), '\\n')"
   ]
  }
 ],
 "metadata": {
  "kernelspec": {
   "display_name": "R",
   "language": "R",
   "name": "ir"
  },
  "language_info": {
   "codemirror_mode": "r",
   "file_extension": ".r",
   "mimetype": "text/x-r-source",
   "name": "R",
   "pygments_lexer": "r",
   "version": "4.3.0"
  },
  "toc": {
   "base_numbering": 1,
   "nav_menu": {},
   "number_sections": true,
   "sideBar": true,
   "skip_h1_title": false,
   "title_cell": "Table of Contents",
   "title_sidebar": "Contents",
   "toc_cell": false,
   "toc_position": {},
   "toc_section_display": true,
   "toc_window_display": false
  }
 },
 "nbformat": 4,
 "nbformat_minor": 2
}
